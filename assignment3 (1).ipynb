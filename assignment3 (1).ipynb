{
 "cells": [
  {
   "cell_type": "markdown",
   "id": "310d44dd",
   "metadata": {},
   "source": [
    "#### 1.why are the functions advantageous to have in your programme"
   ]
  },
  {
   "cell_type": "markdown",
   "id": "e99f0f0b",
   "metadata": {},
   "source": [
    "1. it enhances the reusuablity of a code means you can call a function from anywhere of a programme after it is defined\n",
    "2. using function prevents repeating same piece of code again and again"
   ]
  },
  {
   "cell_type": "markdown",
   "id": "9f4fe247",
   "metadata": {},
   "source": [
    "#### 2.when does the code in a function run: when it is specified or when it is called?"
   ]
  },
  {
   "cell_type": "markdown",
   "id": "ab61f1d4",
   "metadata": {},
   "source": [
    "when it is called"
   ]
  },
  {
   "cell_type": "markdown",
   "id": "7505325f",
   "metadata": {},
   "source": [
    "#### 3.what statement creates a function?"
   ]
  },
  {
   "cell_type": "markdown",
   "id": "0751f9a4",
   "metadata": {},
   "source": [
    "def statement"
   ]
  },
  {
   "cell_type": "markdown",
   "id": "c25c750b",
   "metadata": {},
   "source": [
    "#### 4.what is the difference between a function and a function call?"
   ]
  },
  {
   "cell_type": "markdown",
   "id": "beea15c6",
   "metadata": {},
   "source": [
    "a function is basically a piece of code that promotes the reusuablity of a programme,\n",
    "but a function call is used to call a function after it is defined"
   ]
  },
  {
   "cell_type": "markdown",
   "id": "cd4aafbc",
   "metadata": {},
   "source": [
    "#### 5.how many global scopes are in python and how many local scopes are there?"
   ]
  },
  {
   "cell_type": "markdown",
   "id": "0fc2110a",
   "metadata": {},
   "source": [
    "there is one global scope of python per programme and local scope is created whenever a function is called"
   ]
  },
  {
   "cell_type": "markdown",
   "id": "d642898d",
   "metadata": {},
   "source": [
    "#### 6.what happens to varriables in local scope when the function call returns?"
   ]
  },
  {
   "cell_type": "markdown",
   "id": "60a2a610",
   "metadata": {},
   "source": [
    "when the function call returns , the local scopes are destroyed and all the variables are forgotten"
   ]
  },
  {
   "cell_type": "markdown",
   "id": "00a8e2fb",
   "metadata": {},
   "source": [
    "#### 7.what is the concept of return value? is it possible to have a return value in an expression?"
   ]
  },
  {
   "cell_type": "markdown",
   "id": "677e87a3",
   "metadata": {},
   "source": [
    "return value is a value that function returns after execution of a code.the return value can be stored as a variable.it is not possible to have a return value of an expression"
   ]
  },
  {
   "cell_type": "markdown",
   "id": "c30deb4c",
   "metadata": {},
   "source": [
    "#### 8.if a function does not have a return statement, what is the return value of a call to that function?"
   ]
  },
  {
   "cell_type": "markdown",
   "id": "eb981013",
   "metadata": {},
   "source": [
    "the value will be none"
   ]
  },
  {
   "cell_type": "markdown",
   "id": "4c0d344d",
   "metadata": {},
   "source": [
    "#### 9.how do you make a function variable refer to the global variable?"
   ]
  },
  {
   "cell_type": "markdown",
   "id": "dda846ca",
   "metadata": {},
   "source": [
    "function variable means a local variable can be referred as aglobal variable by using the keyword global"
   ]
  },
  {
   "cell_type": "markdown",
   "id": "94727101",
   "metadata": {},
   "source": [
    "#### 10.what is data type of none?"
   ]
  },
  {
   "cell_type": "markdown",
   "id": "fd9f3885",
   "metadata": {},
   "source": [
    "Nonetype"
   ]
  },
  {
   "cell_type": "markdown",
   "id": "68138ea0",
   "metadata": {},
   "source": [
    "#### 11.what does the sentance import areallyourpetsnamederic do?"
   ]
  },
  {
   "cell_type": "markdown",
   "id": "f9cafd9d",
   "metadata": {},
   "source": [
    "it imports the module named areallyourpetsnamederic."
   ]
  },
  {
   "cell_type": "markdown",
   "id": "dd4907b5",
   "metadata": {},
   "source": [
    "#### 12.if you had a bacon() feature in a spam module<what you call it after importing spam?"
   ]
  },
  {
   "cell_type": "markdown",
   "id": "1638a937",
   "metadata": {},
   "source": [
    "this function acn be called with spam.bacon()"
   ]
  },
  {
   "cell_type": "markdown",
   "id": "62c1cd4f",
   "metadata": {},
   "source": [
    "#### 13.what can you do to save a programme from crashing if it encounters an error?"
   ]
  },
  {
   "cell_type": "markdown",
   "id": "fb10a474",
   "metadata": {},
   "source": [
    "write the code into try clause that might cause an error and use except  block to handle it"
   ]
  },
  {
   "cell_type": "markdown",
   "id": "0adc7728",
   "metadata": {},
   "source": [
    "#### 14.what is the purpose of try clause and except clause?"
   ]
  },
  {
   "cell_type": "markdown",
   "id": "fa77215f",
   "metadata": {},
   "source": [
    "if a piece of code written in try clause that might cause an error it can be handle with using except clause"
   ]
  },
  {
   "cell_type": "code",
   "execution_count": null,
   "id": "99a6f42a",
   "metadata": {},
   "outputs": [],
   "source": []
  }
 ],
 "metadata": {
  "kernelspec": {
   "display_name": "Python 3 (ipykernel)",
   "language": "python",
   "name": "python3"
  },
  "language_info": {
   "codemirror_mode": {
    "name": "ipython",
    "version": 3
   },
   "file_extension": ".py",
   "mimetype": "text/x-python",
   "name": "python",
   "nbconvert_exporter": "python",
   "pygments_lexer": "ipython3",
   "version": "3.10.9"
  }
 },
 "nbformat": 4,
 "nbformat_minor": 5
}
